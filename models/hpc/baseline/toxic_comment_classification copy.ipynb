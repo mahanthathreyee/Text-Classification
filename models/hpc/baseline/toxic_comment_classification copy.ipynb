{
 "cells": [
  {
   "cell_type": "code",
   "execution_count": 1,
   "metadata": {},
   "outputs": [],
   "source": [
    "import os\n",
    "from pathlib import Path\n",
    "\n",
    "import pandas as pd"
   ]
  },
  {
   "cell_type": "code",
   "execution_count": 2,
   "metadata": {},
   "outputs": [],
   "source": [
    "INPUT_COL = 'Processed Review'\n",
    "OUTPUT_COL = 'Sentiment'\n",
    "\n",
    "CWD = Path(os.getcwd()).parent.parent\n",
    "DATA_DIR = Path('data/preprocessed/imdb_review')"
   ]
  },
  {
   "cell_type": "code",
   "execution_count": 3,
   "metadata": {},
   "outputs": [],
   "source": [
    "DATA_DIR = CWD / DATA_DIR\n",
    "\n",
    "train_data = pd.read_csv(DATA_DIR / 'train.csv')\n",
    "validation_data = pd.read_csv(DATA_DIR / 'test.csv')"
   ]
  },
  {
   "cell_type": "code",
   "execution_count": 4,
   "metadata": {},
   "outputs": [
    {
     "data": {
      "text/html": [
       "<div>\n",
       "<style scoped>\n",
       "    .dataframe tbody tr th:only-of-type {\n",
       "        vertical-align: middle;\n",
       "    }\n",
       "\n",
       "    .dataframe tbody tr th {\n",
       "        vertical-align: top;\n",
       "    }\n",
       "\n",
       "    .dataframe thead th {\n",
       "        text-align: right;\n",
       "    }\n",
       "</style>\n",
       "<table border=\"1\" class=\"dataframe\">\n",
       "  <thead>\n",
       "    <tr style=\"text-align: right;\">\n",
       "      <th></th>\n",
       "      <th>ID</th>\n",
       "      <th>Movie Id</th>\n",
       "      <th>Rating</th>\n",
       "      <th>Review</th>\n",
       "      <th>Processed Review</th>\n",
       "      <th>Sentiment</th>\n",
       "    </tr>\n",
       "  </thead>\n",
       "  <tbody>\n",
       "  </tbody>\n",
       "</table>\n",
       "</div>"
      ],
      "text/plain": [
       "Empty DataFrame\n",
       "Columns: [ID, Movie Id, Rating, Review, Processed Review, Sentiment]\n",
       "Index: []"
      ]
     },
     "execution_count": 4,
     "metadata": {},
     "output_type": "execute_result"
    }
   ],
   "source": [
    "# Count of NA values in Processed comment\n",
    "train_data[train_data.isnull().any(axis=1)].head()"
   ]
  },
  {
   "cell_type": "code",
   "execution_count": 5,
   "metadata": {},
   "outputs": [
    {
     "data": {
      "text/html": [
       "<div>\n",
       "<style scoped>\n",
       "    .dataframe tbody tr th:only-of-type {\n",
       "        vertical-align: middle;\n",
       "    }\n",
       "\n",
       "    .dataframe tbody tr th {\n",
       "        vertical-align: top;\n",
       "    }\n",
       "\n",
       "    .dataframe thead th {\n",
       "        text-align: right;\n",
       "    }\n",
       "</style>\n",
       "<table border=\"1\" class=\"dataframe\">\n",
       "  <thead>\n",
       "    <tr style=\"text-align: right;\">\n",
       "      <th></th>\n",
       "      <th>ID</th>\n",
       "      <th>Movie Id</th>\n",
       "      <th>Rating</th>\n",
       "      <th>Review</th>\n",
       "      <th>Processed Review</th>\n",
       "      <th>Sentiment</th>\n",
       "    </tr>\n",
       "  </thead>\n",
       "  <tbody>\n",
       "    <tr>\n",
       "      <th>0</th>\n",
       "      <td>1821</td>\n",
       "      <td>114057</td>\n",
       "      <td>4</td>\n",
       "      <td>Working with one of the best Shakespeare sourc...</td>\n",
       "      <td>work best shakespear sourc manag credit sourc ...</td>\n",
       "      <td>-1</td>\n",
       "    </tr>\n",
       "    <tr>\n",
       "      <th>1</th>\n",
       "      <td>10402</td>\n",
       "      <td>334541</td>\n",
       "      <td>1</td>\n",
       "      <td>Well...tremors I, the original started off in ...</td>\n",
       "      <td>welltremor origin start 1990 found quit enjoy ...</td>\n",
       "      <td>-1</td>\n",
       "    </tr>\n",
       "    <tr>\n",
       "      <th>2</th>\n",
       "      <td>1062</td>\n",
       "      <td>337640</td>\n",
       "      <td>4</td>\n",
       "      <td>Ouch! This one was a bit painful to sit throug...</td>\n",
       "      <td>ouch bit pain sit cute amus premis goe hell ma...</td>\n",
       "      <td>-1</td>\n",
       "    </tr>\n",
       "    <tr>\n",
       "      <th>3</th>\n",
       "      <td>9056</td>\n",
       "      <td>219400</td>\n",
       "      <td>1</td>\n",
       "      <td>I've seen some crappy movies in my life, but t...</td>\n",
       "      <td>ive seen crappi life must among worst defin bo...</td>\n",
       "      <td>-1</td>\n",
       "    </tr>\n",
       "    <tr>\n",
       "      <th>4</th>\n",
       "      <td>5392</td>\n",
       "      <td>806203</td>\n",
       "      <td>3</td>\n",
       "      <td>\"Carriers\" follows the exploits of two guys an...</td>\n",
       "      <td>carrier follow exploit two guy two gal stolen ...</td>\n",
       "      <td>-1</td>\n",
       "    </tr>\n",
       "  </tbody>\n",
       "</table>\n",
       "</div>"
      ],
      "text/plain": [
       "      ID  Movie Id  Rating                                             Review  \\\n",
       "0   1821    114057       4  Working with one of the best Shakespeare sourc...   \n",
       "1  10402    334541       1  Well...tremors I, the original started off in ...   \n",
       "2   1062    337640       4  Ouch! This one was a bit painful to sit throug...   \n",
       "3   9056    219400       1  I've seen some crappy movies in my life, but t...   \n",
       "4   5392    806203       3  \"Carriers\" follows the exploits of two guys an...   \n",
       "\n",
       "                                    Processed Review  Sentiment  \n",
       "0  work best shakespear sourc manag credit sourc ...         -1  \n",
       "1  welltremor origin start 1990 found quit enjoy ...         -1  \n",
       "2  ouch bit pain sit cute amus premis goe hell ma...         -1  \n",
       "3  ive seen crappi life must among worst defin bo...         -1  \n",
       "4  carrier follow exploit two guy two gal stolen ...         -1  "
      ]
     },
     "execution_count": 5,
     "metadata": {},
     "output_type": "execute_result"
    }
   ],
   "source": [
    "train_data = train_data.dropna(subset=[INPUT_COL])\n",
    "train_data.head()"
   ]
  },
  {
   "cell_type": "markdown",
   "metadata": {},
   "source": [
    "# Target Feature Engineering"
   ]
  },
  {
   "cell_type": "code",
   "execution_count": 6,
   "metadata": {},
   "outputs": [],
   "source": [
    "def test_train(test_size=0.2):\n",
    "    from sklearn.model_selection import train_test_split\n",
    "\n",
    "    return train_test_split(\n",
    "        train_data[INPUT_COL].values,\n",
    "        train_data[OUTPUT_COL].values,\n",
    "        test_size=test_size\n",
    "    )"
   ]
  },
  {
   "cell_type": "code",
   "execution_count": 7,
   "metadata": {},
   "outputs": [
    {
     "data": {
      "text/plain": [
       "0.8766"
      ]
     },
     "execution_count": 7,
     "metadata": {},
     "output_type": "execute_result"
    }
   ],
   "source": [
    "from sklearn.linear_model import LogisticRegression\n",
    "from sklearn.feature_extraction.text import TfidfVectorizer\n",
    "\n",
    "# X_train, X_test, y_train, y_test = test_train()\n",
    "tfidf_vectorizer = TfidfVectorizer() \n",
    "X_train = tfidf_vectorizer.fit_transform(train_data[INPUT_COL])\n",
    "X_test = tfidf_vectorizer.transform(validation_data[INPUT_COL])\n",
    "\n",
    "lr = LogisticRegression()\n",
    "lr.fit(X_train, train_data[OUTPUT_COL])\n",
    "lr.score(X_test, validation_data[OUTPUT_COL])"
   ]
  },
  {
   "cell_type": "code",
   "execution_count": 8,
   "metadata": {},
   "outputs": [],
   "source": [
    "from sklearn.tree import DecisionTreeClassifier\n",
    "from sklearn.feature_extraction.text import TfidfVectorizer\n",
    "\n",
    "# X_train, X_test, y_train, y_test = test_train()\n",
    "tfidf_vectorizer = TfidfVectorizer() \n",
    "X_train = tfidf_vectorizer.fit_transform(train_data[INPUT_COL])\n",
    "X_test = tfidf_vectorizer.transform(validation_data[INPUT_COL])\n",
    "\n",
    "dt = DecisionTreeClassifier()\n",
    "dt = dt.fit(X_train, train_data[OUTPUT_COL])\n",
    "dt.score(X_test, validation_data[OUTPUT_COL])"
   ]
  },
  {
   "cell_type": "code",
   "execution_count": null,
   "metadata": {},
   "outputs": [],
   "source": [
    "from sklearn.neighbors import KNeighborsClassifier\n",
    "from sklearn.feature_extraction.text import TfidfVectorizer\n",
    "\n",
    "X_train, X_test, y_train, y_test = test_train()\n",
    "tfidf_vectorizer = TfidfVectorizer() \n",
    "X_train = tfidf_vectorizer.fit_transform(train_data[INPUT_COL])\n",
    "X_test = tfidf_vectorizer.transform(validation_data[INPUT_COL])\n",
    "\n",
    "knn = KNeighborsClassifier(\n",
    "    n_neighbors=5,\n",
    "    n_jobs=-1\n",
    ")\n",
    "\n",
    "knn = knn.fit(X_train, train_data[OUTPUT_COL])\n",
    "knn.score(X_test, validation_data[OUTPUT_COL])"
   ]
  }
 ],
 "metadata": {
  "kernelspec": {
   "display_name": "env",
   "language": "python",
   "name": "python3"
  },
  "language_info": {
   "codemirror_mode": {
    "name": "ipython",
    "version": 3
   },
   "file_extension": ".py",
   "mimetype": "text/x-python",
   "name": "python",
   "nbconvert_exporter": "python",
   "pygments_lexer": "ipython3",
   "version": "3.11.2"
  }
 },
 "nbformat": 4,
 "nbformat_minor": 2
}

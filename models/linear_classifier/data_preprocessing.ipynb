{
 "cells": [
  {
   "cell_type": "code",
   "execution_count": 21,
   "metadata": {},
   "outputs": [],
   "source": [
    "import os\n",
    "import sys  \n",
    "from pathlib import Path\n",
    "\n",
    "import pandas as pd\n",
    "\n",
    "sys.path.insert(0, str(Path().resolve().parents[1]))\n",
    "\n",
    "from utils.data_preprocessing import text_preprocessors"
   ]
  },
  {
   "cell_type": "code",
   "execution_count": 22,
   "metadata": {},
   "outputs": [],
   "source": [
    "DATA_SET = 'imdb_review'\n",
    "DATA_DIR = Path('data/')\n",
    "OUT_DIR = Path('data/preprocessed/imdb_review/')\n",
    "\n",
    "REVIEW_COL = 'Review'\n",
    "PREPROCESSED_COL = f'Processed {REVIEW_COL}'\n",
    "\n",
    "CWD = Path(os.getcwd()).parent.parent\n",
    "\n",
    "import importlib\n",
    "importlib.reload(text_preprocessors);\n",
    "PREPROCESSOR = text_preprocessors.PREPROCESSOR"
   ]
  },
  {
   "cell_type": "markdown",
   "metadata": {},
   "source": [
    "# Preprocessing Enable"
   ]
  },
  {
   "cell_type": "code",
   "execution_count": 23,
   "metadata": {},
   "outputs": [],
   "source": [
    "# ORDERED List of Processors State\n",
    "PREPROCESSOR_STATE = {\n",
    "    'LOWER_CASE': True,\n",
    "    'CONVERT_EMOTE': True,\n",
    "    'REMOVE_URLs': True,\n",
    "    'REMOVE_PUNCTUATION': True,\n",
    "    'REMOVE_STOPWORDS': True,\n",
    "    'STEM': True,\n",
    "    'REMOVE_MOST_FREQ': True,\n",
    "}"
   ]
  },
  {
   "cell_type": "code",
   "execution_count": 24,
   "metadata": {},
   "outputs": [],
   "source": [
    "DATA_DIR = CWD / DATA_DIR\n",
    "OUT_DIR = CWD / OUT_DIR\n",
    "train_data = pd.read_csv(DATA_DIR / DATA_SET / 'train.csv')\n",
    "test_data = pd.read_csv(DATA_DIR / DATA_SET / 'test.csv')"
   ]
  },
  {
   "cell_type": "code",
   "execution_count": 25,
   "metadata": {},
   "outputs": [],
   "source": [
    "def preprocess_reviews(data: pd.DataFrame):\n",
    "    reviews: pd.Series = data[REVIEW_COL]\n",
    "\n",
    "    for key, enabled in PREPROCESSOR_STATE.items():\n",
    "        if enabled: \n",
    "            reviews = PREPROCESSOR[key](reviews)\n",
    "\n",
    "    data.insert(\n",
    "        train_data.columns.get_loc(REVIEW_COL) + 1,\n",
    "        PREPROCESSED_COL,\n",
    "        reviews\n",
    "    )"
   ]
  },
  {
   "cell_type": "code",
   "execution_count": 26,
   "metadata": {},
   "outputs": [
    {
     "name": "stdout",
     "output_type": "stream",
     "text": [
      "N Most Freq Words: {'br': 56514, 'movi': 47463, 'film': 45044, 'one': 25783, 'like': 21801, 'time': 14674, 'good': 14500, 'make': 14455, 'get': 13962, 'charact': 13771}\n"
     ]
    },
    {
     "data": {
      "text/html": [
       "<div>\n",
       "<style scoped>\n",
       "    .dataframe tbody tr th:only-of-type {\n",
       "        vertical-align: middle;\n",
       "    }\n",
       "\n",
       "    .dataframe tbody tr th {\n",
       "        vertical-align: top;\n",
       "    }\n",
       "\n",
       "    .dataframe thead th {\n",
       "        text-align: right;\n",
       "    }\n",
       "</style>\n",
       "<table border=\"1\" class=\"dataframe\">\n",
       "  <thead>\n",
       "    <tr style=\"text-align: right;\">\n",
       "      <th></th>\n",
       "      <th>ID</th>\n",
       "      <th>Movie Id</th>\n",
       "      <th>Rating</th>\n",
       "      <th>Review</th>\n",
       "      <th>Processed Review</th>\n",
       "      <th>Sentiment</th>\n",
       "    </tr>\n",
       "  </thead>\n",
       "  <tbody>\n",
       "    <tr>\n",
       "      <th>0</th>\n",
       "      <td>1821</td>\n",
       "      <td>114057</td>\n",
       "      <td>4</td>\n",
       "      <td>Working with one of the best Shakespeare sourc...</td>\n",
       "      <td>work best shakespear sourc manag credit sourc ...</td>\n",
       "      <td>-1</td>\n",
       "    </tr>\n",
       "    <tr>\n",
       "      <th>1</th>\n",
       "      <td>10402</td>\n",
       "      <td>334541</td>\n",
       "      <td>1</td>\n",
       "      <td>Well...tremors I, the original started off in ...</td>\n",
       "      <td>welltremor origin start 1990 found quit enjoy ...</td>\n",
       "      <td>-1</td>\n",
       "    </tr>\n",
       "    <tr>\n",
       "      <th>2</th>\n",
       "      <td>1062</td>\n",
       "      <td>337640</td>\n",
       "      <td>4</td>\n",
       "      <td>Ouch! This one was a bit painful to sit throug...</td>\n",
       "      <td>ouch bit pain sit cute amus premis goe hell ma...</td>\n",
       "      <td>-1</td>\n",
       "    </tr>\n",
       "    <tr>\n",
       "      <th>3</th>\n",
       "      <td>9056</td>\n",
       "      <td>219400</td>\n",
       "      <td>1</td>\n",
       "      <td>I've seen some crappy movies in my life, but t...</td>\n",
       "      <td>ive seen crappi life must among worst defin bo...</td>\n",
       "      <td>-1</td>\n",
       "    </tr>\n",
       "    <tr>\n",
       "      <th>4</th>\n",
       "      <td>5392</td>\n",
       "      <td>806203</td>\n",
       "      <td>3</td>\n",
       "      <td>\"Carriers\" follows the exploits of two guys an...</td>\n",
       "      <td>carrier follow exploit two guy two gal stolen ...</td>\n",
       "      <td>-1</td>\n",
       "    </tr>\n",
       "  </tbody>\n",
       "</table>\n",
       "</div>"
      ],
      "text/plain": [
       "      ID  Movie Id  Rating                                             Review  \\\n",
       "0   1821    114057       4  Working with one of the best Shakespeare sourc...   \n",
       "1  10402    334541       1  Well...tremors I, the original started off in ...   \n",
       "2   1062    337640       4  Ouch! This one was a bit painful to sit throug...   \n",
       "3   9056    219400       1  I've seen some crappy movies in my life, but t...   \n",
       "4   5392    806203       3  \"Carriers\" follows the exploits of two guys an...   \n",
       "\n",
       "                                    Processed Review  Sentiment  \n",
       "0  work best shakespear sourc manag credit sourc ...         -1  \n",
       "1  welltremor origin start 1990 found quit enjoy ...         -1  \n",
       "2  ouch bit pain sit cute amus premis goe hell ma...         -1  \n",
       "3  ive seen crappi life must among worst defin bo...         -1  \n",
       "4  carrier follow exploit two guy two gal stolen ...         -1  "
      ]
     },
     "execution_count": 26,
     "metadata": {},
     "output_type": "execute_result"
    }
   ],
   "source": [
    "preprocess_reviews(train_data)\n",
    "train_data.head()"
   ]
  },
  {
   "cell_type": "code",
   "execution_count": 27,
   "metadata": {},
   "outputs": [
    {
     "name": "stdout",
     "output_type": "stream",
     "text": [
      "N Most Freq Words: {'br': 56108, 'movi': 47232, 'film': 44476, 'one': 25701, 'like': 21497, 'time': 14301, 'make': 14033, 'good': 13988, 'charact': 13744, 'get': 13629}\n"
     ]
    },
    {
     "data": {
      "text/html": [
       "<div>\n",
       "<style scoped>\n",
       "    .dataframe tbody tr th:only-of-type {\n",
       "        vertical-align: middle;\n",
       "    }\n",
       "\n",
       "    .dataframe tbody tr th {\n",
       "        vertical-align: top;\n",
       "    }\n",
       "\n",
       "    .dataframe thead th {\n",
       "        text-align: right;\n",
       "    }\n",
       "</style>\n",
       "<table border=\"1\" class=\"dataframe\">\n",
       "  <thead>\n",
       "    <tr style=\"text-align: right;\">\n",
       "      <th></th>\n",
       "      <th>ID</th>\n",
       "      <th>Movie Id</th>\n",
       "      <th>Rating</th>\n",
       "      <th>Review</th>\n",
       "      <th>Processed Review</th>\n",
       "      <th>Sentiment</th>\n",
       "    </tr>\n",
       "  </thead>\n",
       "  <tbody>\n",
       "    <tr>\n",
       "      <th>0</th>\n",
       "      <td>1821</td>\n",
       "      <td>138541</td>\n",
       "      <td>4</td>\n",
       "      <td>Alan Rickman &amp; Emma Thompson give good perform...</td>\n",
       "      <td>alan rickman emma thompson give perform southe...</td>\n",
       "      <td>-1</td>\n",
       "    </tr>\n",
       "    <tr>\n",
       "      <th>1</th>\n",
       "      <td>9487</td>\n",
       "      <td>202521</td>\n",
       "      <td>1</td>\n",
       "      <td>I have seen this movie and I did not care for ...</td>\n",
       "      <td>seen care anyhow would think go pari countri n...</td>\n",
       "      <td>-1</td>\n",
       "    </tr>\n",
       "    <tr>\n",
       "      <th>2</th>\n",
       "      <td>4604</td>\n",
       "      <td>417658</td>\n",
       "      <td>4</td>\n",
       "      <td>In Los Angeles, the alcoholic and lazy Hank Ch...</td>\n",
       "      <td>lo angel alcohol lazi hank chinaski matt dillo...</td>\n",
       "      <td>-1</td>\n",
       "    </tr>\n",
       "    <tr>\n",
       "      <th>3</th>\n",
       "      <td>2828</td>\n",
       "      <td>66105</td>\n",
       "      <td>2</td>\n",
       "      <td>This film is bundled along with \"Gli fumavano ...</td>\n",
       "      <td>bundl along gli fumavano le colt lo chiamavano...</td>\n",
       "      <td>-1</td>\n",
       "    </tr>\n",
       "    <tr>\n",
       "      <th>4</th>\n",
       "      <td>10890</td>\n",
       "      <td>787505</td>\n",
       "      <td>1</td>\n",
       "      <td>I only comment on really very good films and o...</td>\n",
       "      <td>comment realli utter rubbish aim help peopl wa...</td>\n",
       "      <td>-1</td>\n",
       "    </tr>\n",
       "  </tbody>\n",
       "</table>\n",
       "</div>"
      ],
      "text/plain": [
       "      ID  Movie Id  Rating                                             Review  \\\n",
       "0   1821    138541       4  Alan Rickman & Emma Thompson give good perform...   \n",
       "1   9487    202521       1  I have seen this movie and I did not care for ...   \n",
       "2   4604    417658       4  In Los Angeles, the alcoholic and lazy Hank Ch...   \n",
       "3   2828     66105       2  This film is bundled along with \"Gli fumavano ...   \n",
       "4  10890    787505       1  I only comment on really very good films and o...   \n",
       "\n",
       "                                    Processed Review  Sentiment  \n",
       "0  alan rickman emma thompson give perform southe...         -1  \n",
       "1  seen care anyhow would think go pari countri n...         -1  \n",
       "2  lo angel alcohol lazi hank chinaski matt dillo...         -1  \n",
       "3  bundl along gli fumavano le colt lo chiamavano...         -1  \n",
       "4  comment realli utter rubbish aim help peopl wa...         -1  "
      ]
     },
     "execution_count": 27,
     "metadata": {},
     "output_type": "execute_result"
    }
   ],
   "source": [
    "preprocess_reviews(test_data)\n",
    "test_data.head()"
   ]
  },
  {
   "cell_type": "code",
   "execution_count": 28,
   "metadata": {},
   "outputs": [],
   "source": [
    "train_data.to_csv(OUT_DIR / f'train.csv')\n",
    "test_data.to_csv(OUT_DIR / f'test.csv')"
   ]
  }
 ],
 "metadata": {
  "kernelspec": {
   "display_name": "env",
   "language": "python",
   "name": "python3"
  },
  "language_info": {
   "codemirror_mode": {
    "name": "ipython",
    "version": 3
   },
   "file_extension": ".py",
   "mimetype": "text/x-python",
   "name": "python",
   "nbconvert_exporter": "python",
   "pygments_lexer": "ipython3",
   "version": "3.11.2"
  }
 },
 "nbformat": 4,
 "nbformat_minor": 2
}

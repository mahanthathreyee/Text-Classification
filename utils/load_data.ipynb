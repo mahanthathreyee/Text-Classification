{
 "cells": [
  {
   "cell_type": "code",
   "execution_count": 1,
   "metadata": {},
   "outputs": [],
   "source": [
    "import os\n",
    "import re\n",
    "import numpy as np\n",
    "import pandas as pd\n",
    "from pathlib import Path\n",
    "from imdb import Cinemagoer"
   ]
  },
  {
   "cell_type": "code",
   "execution_count": 2,
   "metadata": {},
   "outputs": [],
   "source": [
    "CWD = Path(os.getcwd()).parent\n",
    "DATA_DIR = Path('data/aclimdb/')\n",
    "REVIEW_FILE_PATTERN = r\"(\\d+)_(\\d+)\\.txt\"\n",
    "IMDB_URL_PATTERN = r\"http://www.imdb.com/title/tt(\\d+)/usercomments\"\n",
    "\n",
    "OUTPUT_LOC = Path('data/imdb_review')"
   ]
  },
  {
   "cell_type": "code",
   "execution_count": 3,
   "metadata": {},
   "outputs": [],
   "source": [
    "DATA_DIR = CWD / DATA_DIR\n",
    "OUTPUT_LOC = CWD / OUTPUT_LOC"
   ]
  },
  {
   "cell_type": "code",
   "execution_count": 4,
   "metadata": {},
   "outputs": [],
   "source": [
    "imdb_url_pattern = re.compile(IMDB_URL_PATTERN)\n",
    "\n",
    "def get_imdb_urls(url_list_file: Path):\n",
    "    imdb_urls = np.genfromtxt(url_list_file, dtype=str, delimiter='\\n').tolist()\n",
    "    return list(map(\n",
    "        lambda url: imdb_url_pattern.search(url).group(1),\n",
    "        imdb_urls\n",
    "    ))"
   ]
  },
  {
   "cell_type": "code",
   "execution_count": 5,
   "metadata": {},
   "outputs": [],
   "source": [
    "comment_file_pattern = re.compile(REVIEW_FILE_PATTERN)\n",
    "\n",
    "def get_sentiment_data(sentiment: str, data_path: Path) -> pd.DataFrame:\n",
    "    comment_url_id = get_imdb_urls(data_path / f'urls_{sentiment}.txt')\n",
    "    data_path = data_path / sentiment\n",
    "\n",
    "    comment_df = pd.DataFrame(\n",
    "        columns=['Movie Id', 'Rating', 'Review', 'Sentiment'], \n",
    "        index=pd.Index([], name='ID')\n",
    "    )\n",
    "\n",
    "    comment_files = os.listdir(data_path)\n",
    "    for comment_file in comment_files:\n",
    "        cId, rating = comment_file_pattern.search(comment_file).groups()\n",
    "        cId = int(cId)\n",
    "        \n",
    "        with open(data_path/comment_file) as f: comment = f.read()\n",
    "        \n",
    "        comment_df.loc[cId] = [\n",
    "            comment_url_id[cId],\n",
    "            rating,\n",
    "            comment,\n",
    "            +1 if sentiment == 'pos' else -1\n",
    "        ]\n",
    "    \n",
    "    return comment_df"
   ]
  },
  {
   "cell_type": "code",
   "execution_count": 6,
   "metadata": {},
   "outputs": [],
   "source": [
    "def load_data(data_type: str):\n",
    "    return pd.concat([\n",
    "        get_sentiment_data('neg', DATA_DIR / data_type),\n",
    "        get_sentiment_data('pos', DATA_DIR / data_type)\n",
    "    ])"
   ]
  },
  {
   "cell_type": "code",
   "execution_count": 7,
   "metadata": {},
   "outputs": [],
   "source": [
    "train_data = load_data('train')\n",
    "test_data = load_data('test')"
   ]
  },
  {
   "cell_type": "code",
   "execution_count": 8,
   "metadata": {},
   "outputs": [],
   "source": [
    "train_data.to_csv(OUTPUT_LOC / 'train.csv')\n",
    "test_data.to_csv(OUTPUT_LOC / 'test.csv')"
   ]
  }
 ],
 "metadata": {
  "kernelspec": {
   "display_name": "env",
   "language": "python",
   "name": "python3"
  },
  "language_info": {
   "codemirror_mode": {
    "name": "ipython",
    "version": 3
   },
   "file_extension": ".py",
   "mimetype": "text/x-python",
   "name": "python",
   "nbconvert_exporter": "python",
   "pygments_lexer": "ipython3",
   "version": "3.11.2"
  }
 },
 "nbformat": 4,
 "nbformat_minor": 2
}

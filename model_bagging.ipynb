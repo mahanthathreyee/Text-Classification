{
 "cells": [
  {
   "cell_type": "code",
   "execution_count": 101,
   "metadata": {},
   "outputs": [],
   "source": [
    "from tqdm import tqdm\n",
    "from pathlib import Path\n",
    "\n",
    "import numpy as np\n",
    "import pandas as pd\n",
    "from sklearn.metrics import roc_auc_score"
   ]
  },
  {
   "cell_type": "code",
   "execution_count": 102,
   "metadata": {},
   "outputs": [],
   "source": [
    "IN_TEST = Path('./data/jigsaw_toxic_comments/merged_test.csv')\n",
    "\n",
    "MODEL_OUTPUT_DIR = Path('./data/model_outputs')\n",
    "\n",
    "OUT_CNN = MODEL_OUTPUT_DIR / 'pred_cnn.csv'\n",
    "OUT_LSTM = MODEL_OUTPUT_DIR / 'pred_lstm.csv'\n",
    "OUT_LOGREG = MODEL_OUTPUT_DIR / 'pred_logreg.csv'\n",
    "OUT_NB_SVM = MODEL_OUTPUT_DIR / 'pred_nb_svm.csv'"
   ]
  },
  {
   "cell_type": "code",
   "execution_count": 103,
   "metadata": {},
   "outputs": [],
   "source": [
    "TEST = pd.read_csv(IN_TEST)\n",
    "\n",
    "PRED_CNN = pd.read_csv(OUT_CNN)\n",
    "PRED_LTSM = pd.read_csv(OUT_LSTM)\n",
    "PRED_LOGREG = pd.read_csv(OUT_LOGREG)\n",
    "PRED_NB_SVM = pd.read_csv(OUT_NB_SVM)\n",
    "\n",
    "LABEL_COLS = TEST.columns[2:].to_list()\n",
    "N_TE = len(TEST)\n",
    "\n",
    "MODEL_OUT_PROB = {\n",
    "    'CNN':    PRED_CNN, \n",
    "    'LSTM':   PRED_LTSM, \n",
    "    'LOGREG': PRED_LOGREG, \n",
    "    'NB_SVM': PRED_NB_SVM\n",
    "}\n",
    "\n",
    "MODEL_OUT_PROB = {k: v[LABEL_COLS].to_numpy() for k, v in MODEL_OUT_PROB.items()}"
   ]
  },
  {
   "cell_type": "code",
   "execution_count": 104,
   "metadata": {},
   "outputs": [],
   "source": [
    "def prob_to_class(prob):\n",
    "    return 1 if prob >= 0.5 else 0\n",
    "\n",
    "def compute_ensemble_pred(idx = 0, col = 0):\n",
    "    prob_sum = 0\n",
    "\n",
    "    for model in MODEL_OUT_PROB.values():\n",
    "        prob_sum += model[idx][col]\n",
    "\n",
    "    return prob_sum"
   ]
  },
  {
   "cell_type": "code",
   "execution_count": 105,
   "metadata": {},
   "outputs": [
    {
     "name": "stderr",
     "output_type": "stream",
     "text": [
      "100%|██████████| 63978/63978 [00:00<00:00, 1155506.10it/s]\n",
      "100%|██████████| 63978/63978 [00:00<00:00, 1176670.25it/s]\n",
      "100%|██████████| 63978/63978 [00:00<00:00, 1181119.14it/s]\n",
      "100%|██████████| 63978/63978 [00:00<00:00, 1158984.60it/s]\n",
      "100%|██████████| 63978/63978 [00:00<00:00, 1143179.86it/s]\n",
      "100%|██████████| 63978/63978 [00:00<00:00, 1146437.48it/s]\n"
     ]
    }
   ],
   "source": [
    "bagged_pred = np.zeros((len(PRED_CNN), len(LABEL_COLS)))\n",
    "\n",
    "for c_idx, col in enumerate(LABEL_COLS):\n",
    "    for x_idx in tqdm(range(len(TEST.id))):\n",
    "        bagged_pred[x_idx, c_idx] = compute_ensemble_pred(x_idx, c_idx)"
   ]
  },
  {
   "cell_type": "code",
   "execution_count": 106,
   "metadata": {},
   "outputs": [
    {
     "data": {
      "text/plain": [
       "0.9237296784887028"
      ]
     },
     "execution_count": 106,
     "metadata": {},
     "output_type": "execute_result"
    }
   ],
   "source": [
    "def compute_test_auc(pred):\n",
    "    print(f'{k}: {roc_auc_score(TEST[LABEL_COLS].values, v)}')\n",
    "\n",
    "print(\"AUC Scores\")\n",
    "for k, v in MODEL_OUT_PROB.items():\n",
    "    print(f'{k}: {roc_auc_score(TEST[LABEL_COLS].values, v)}')\n",
    "print(roc_auc_score(TEST[LABEL_COLS].values, bagged_pred)) "
   ]
  },
  {
   "cell_type": "code",
   "execution_count": 107,
   "metadata": {},
   "outputs": [
    {
     "data": {
      "text/plain": [
       "array([0., 0., 0., 0., 0., 0.])"
      ]
     },
     "execution_count": 107,
     "metadata": {},
     "output_type": "execute_result"
    }
   ],
   "source": [
    "bagged_pred[0]"
   ]
  }
 ],
 "metadata": {
  "kernelspec": {
   "display_name": "env",
   "language": "python",
   "name": "python3"
  },
  "language_info": {
   "codemirror_mode": {
    "name": "ipython",
    "version": 3
   },
   "file_extension": ".py",
   "mimetype": "text/x-python",
   "name": "python",
   "nbconvert_exporter": "python",
   "pygments_lexer": "ipython3",
   "version": "3.11.2"
  }
 },
 "nbformat": 4,
 "nbformat_minor": 2
}

{
 "cells": [
  {
   "cell_type": "code",
   "execution_count": 35,
   "metadata": {},
   "outputs": [],
   "source": [
    "import pandas as pd\n",
    "from pathlib import Path"
   ]
  },
  {
   "cell_type": "code",
   "execution_count": 36,
   "metadata": {},
   "outputs": [],
   "source": [
    "MODEL_OUTPUT_DIR = Path('./data/model_outputs')\n",
    "\n",
    "OUT_CNN = MODEL_OUTPUT_DIR / 'pred_cnn.csv'\n",
    "OUT_LSTM = MODEL_OUTPUT_DIR / 'pred_lstm.csv'\n",
    "OUT_NB_SVM = MODEL_OUTPUT_DIR / 'pred_nb_svm.csv'"
   ]
  },
  {
   "cell_type": "code",
   "execution_count": 37,
   "metadata": {},
   "outputs": [],
   "source": [
    "PRED_CNN = pd.read_csv(OUT_CNN)\n",
    "PRED_LTSM = pd.read_csv(OUT_LSTM)\n",
    "PRED_NB_SVM = pd.read_csv(OUT_NB_SVM)"
   ]
  },
  {
   "cell_type": "code",
   "execution_count": null,
   "metadata": {},
   "outputs": [],
   "source": []
  }
 ],
 "metadata": {
  "kernelspec": {
   "display_name": "env",
   "language": "python",
   "name": "python3"
  },
  "language_info": {
   "codemirror_mode": {
    "name": "ipython",
    "version": 3
   },
   "file_extension": ".py",
   "mimetype": "text/x-python",
   "name": "python",
   "nbconvert_exporter": "python",
   "pygments_lexer": "ipython3",
   "version": "3.11.2"
  }
 },
 "nbformat": 4,
 "nbformat_minor": 2
}

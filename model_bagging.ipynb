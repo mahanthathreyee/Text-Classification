{
 "cells": [
  {
   "cell_type": "code",
   "execution_count": 1,
   "metadata": {},
   "outputs": [],
   "source": [
    "from tqdm import tqdm\n",
    "from pathlib import Path\n",
    "\n",
    "import numpy as np\n",
    "import pandas as pd\n",
    "from sklearn.metrics import roc_auc_score"
   ]
  },
  {
   "cell_type": "code",
   "execution_count": 2,
   "metadata": {},
   "outputs": [],
   "source": [
    "IN_TEST = Path('./data/jigsaw_toxic_comments/test.csv')\n",
    "\n",
    "MODEL_OUTPUT_DIR = Path('./data/model_outputs/full/')\n",
    "\n",
    "OUT_CNN = MODEL_OUTPUT_DIR / 'pred_cnn.csv'\n",
    "OUT_LSTM = MODEL_OUTPUT_DIR / 'pred_lstm.csv'\n",
    "OUT_LOGREG = MODEL_OUTPUT_DIR / 'pred_logreg.csv'\n",
    "OUT_NB_SVM = MODEL_OUTPUT_DIR / 'pred_nb_svm.csv'\n",
    "OUT_BERT = MODEL_OUTPUT_DIR / 'pred_bert.csv'"
   ]
  },
  {
   "cell_type": "code",
   "execution_count": 3,
   "metadata": {},
   "outputs": [],
   "source": [
    "TEST = pd.read_csv(IN_TEST)\n",
    "LABEL_COLS = ['toxic', 'severe_toxic', 'obscene', 'threat', 'insult', 'identity_hate']\n",
    "\n",
    "MODEL_OUT_PROB = {\n",
    "    'CNN':    OUT_CNN, \n",
    "    'LSTM':   OUT_LSTM, \n",
    "    'LOGREG': OUT_LOGREG, \n",
    "    # 'NB_SVM': OUT_NB_SVM,\n",
    "    'BERT':   OUT_BERT\n",
    "}\n",
    "\n",
    "MODEL_OUT_PROB = {\n",
    "    k: pd.read_csv(v)[LABEL_COLS].to_numpy() for k, v in MODEL_OUT_PROB.items()\n",
    "}\n",
    "\n",
    "N_TE = len(TEST)"
   ]
  },
  {
   "cell_type": "code",
   "execution_count": 4,
   "metadata": {},
   "outputs": [],
   "source": [
    "def prob_to_class(prob):\n",
    "    return 1 if prob >= 0.5 else 0\n",
    "\n",
    "def compute_ensemble_pred(idx = 0, col = 0):\n",
    "    prob_sum = 0\n",
    "\n",
    "    for model in MODEL_OUT_PROB.values():\n",
    "        prob_sum += model[idx][col]\n",
    "\n",
    "    return prob_sum / len(MODEL_OUT_PROB)"
   ]
  },
  {
   "cell_type": "code",
   "execution_count": 5,
   "metadata": {},
   "outputs": [
    {
     "name": "stderr",
     "output_type": "stream",
     "text": [
      "100%|██████████| 153164/153164 [00:00<00:00, 1077480.29it/s]\n",
      "100%|██████████| 153164/153164 [00:00<00:00, 1171345.75it/s]\n",
      "100%|██████████| 153164/153164 [00:00<00:00, 1222534.83it/s]\n",
      "100%|██████████| 153164/153164 [00:00<00:00, 1241429.88it/s]\n",
      "100%|██████████| 153164/153164 [00:00<00:00, 1239461.04it/s]\n",
      "100%|██████████| 153164/153164 [00:00<00:00, 1240435.10it/s]\n"
     ]
    }
   ],
   "source": [
    "bagged_pred = np.zeros((len(TEST), len(LABEL_COLS)))\n",
    "\n",
    "for c_idx, col in enumerate(LABEL_COLS):\n",
    "    for x_idx in tqdm(range(len(TEST.id))):\n",
    "        bagged_pred[x_idx, c_idx] = compute_ensemble_pred(x_idx, c_idx)"
   ]
  },
  {
   "cell_type": "code",
   "execution_count": 6,
   "metadata": {},
   "outputs": [
    {
     "data": {
      "text/html": [
       "<div>\n",
       "<style scoped>\n",
       "    .dataframe tbody tr th:only-of-type {\n",
       "        vertical-align: middle;\n",
       "    }\n",
       "\n",
       "    .dataframe tbody tr th {\n",
       "        vertical-align: top;\n",
       "    }\n",
       "\n",
       "    .dataframe thead th {\n",
       "        text-align: right;\n",
       "    }\n",
       "</style>\n",
       "<table border=\"1\" class=\"dataframe\">\n",
       "  <thead>\n",
       "    <tr style=\"text-align: right;\">\n",
       "      <th></th>\n",
       "      <th>id</th>\n",
       "      <th>toxic</th>\n",
       "      <th>severe_toxic</th>\n",
       "      <th>obscene</th>\n",
       "      <th>threat</th>\n",
       "      <th>insult</th>\n",
       "      <th>identity_hate</th>\n",
       "    </tr>\n",
       "  </thead>\n",
       "  <tbody>\n",
       "    <tr>\n",
       "      <th>0</th>\n",
       "      <td>00001cee341fdb12</td>\n",
       "      <td>0.998422</td>\n",
       "      <td>0.608779</td>\n",
       "      <td>0.989709</td>\n",
       "      <td>0.232253</td>\n",
       "      <td>0.950925</td>\n",
       "      <td>0.451370</td>\n",
       "    </tr>\n",
       "    <tr>\n",
       "      <th>1</th>\n",
       "      <td>0000247867823ef7</td>\n",
       "      <td>0.002211</td>\n",
       "      <td>0.000730</td>\n",
       "      <td>0.000550</td>\n",
       "      <td>0.000239</td>\n",
       "      <td>0.004273</td>\n",
       "      <td>0.002416</td>\n",
       "    </tr>\n",
       "    <tr>\n",
       "      <th>2</th>\n",
       "      <td>00013b17ad220c46</td>\n",
       "      <td>0.007113</td>\n",
       "      <td>0.001608</td>\n",
       "      <td>0.005682</td>\n",
       "      <td>0.000313</td>\n",
       "      <td>0.002230</td>\n",
       "      <td>0.000937</td>\n",
       "    </tr>\n",
       "    <tr>\n",
       "      <th>3</th>\n",
       "      <td>00017563c3f7919a</td>\n",
       "      <td>0.002408</td>\n",
       "      <td>0.003137</td>\n",
       "      <td>0.001147</td>\n",
       "      <td>0.000590</td>\n",
       "      <td>0.001676</td>\n",
       "      <td>0.000292</td>\n",
       "    </tr>\n",
       "    <tr>\n",
       "      <th>4</th>\n",
       "      <td>00017695ad8997eb</td>\n",
       "      <td>0.011703</td>\n",
       "      <td>0.000932</td>\n",
       "      <td>0.004295</td>\n",
       "      <td>0.000647</td>\n",
       "      <td>0.005174</td>\n",
       "      <td>0.000488</td>\n",
       "    </tr>\n",
       "  </tbody>\n",
       "</table>\n",
       "</div>"
      ],
      "text/plain": [
       "                 id     toxic  severe_toxic   obscene    threat    insult  \\\n",
       "0  00001cee341fdb12  0.998422      0.608779  0.989709  0.232253  0.950925   \n",
       "1  0000247867823ef7  0.002211      0.000730  0.000550  0.000239  0.004273   \n",
       "2  00013b17ad220c46  0.007113      0.001608  0.005682  0.000313  0.002230   \n",
       "3  00017563c3f7919a  0.002408      0.003137  0.001147  0.000590  0.001676   \n",
       "4  00017695ad8997eb  0.011703      0.000932  0.004295  0.000647  0.005174   \n",
       "\n",
       "   identity_hate  \n",
       "0       0.451370  \n",
       "1       0.002416  \n",
       "2       0.000937  \n",
       "3       0.000292  \n",
       "4       0.000488  "
      ]
     },
     "execution_count": 6,
     "metadata": {},
     "output_type": "execute_result"
    }
   ],
   "source": [
    "pd.merge(\n",
    "    left=TEST.id, \n",
    "    right=pd.DataFrame(bagged_pred, columns=LABEL_COLS), \n",
    "    how='outer', \n",
    "    left_index=True,\n",
    "    right_index=True\n",
    ").head()"
   ]
  },
  {
   "cell_type": "code",
   "execution_count": 7,
   "metadata": {},
   "outputs": [],
   "source": [
    "pd.merge(\n",
    "    left=TEST.id, \n",
    "    right=pd.DataFrame(bagged_pred, columns=LABEL_COLS), \n",
    "    how='outer', \n",
    "    left_index=True,\n",
    "    right_index=True\n",
    ").to_csv('temp.csv', index=False)"
   ]
  },
  {
   "cell_type": "code",
   "execution_count": 8,
   "metadata": {},
   "outputs": [
    {
     "ename": "KeyError",
     "evalue": "\"None of [Index(['toxic', 'severe_toxic', 'obscene', 'threat', 'insult',\\n       'identity_hate'],\\n      dtype='object')] are in the [columns]\"",
     "output_type": "error",
     "traceback": [
      "\u001b[0;31m---------------------------------------------------------------------------\u001b[0m",
      "\u001b[0;31mKeyError\u001b[0m                                  Traceback (most recent call last)",
      "Cell \u001b[0;32mIn[8], line 8\u001b[0m\n\u001b[1;32m      5\u001b[0m scores\u001b[38;5;241m.\u001b[39mset_index(\u001b[38;5;124m'\u001b[39m\u001b[38;5;124mModel\u001b[39m\u001b[38;5;124m'\u001b[39m, inplace\u001b[38;5;241m=\u001b[39m\u001b[38;5;28;01mTrue\u001b[39;00m)\n\u001b[1;32m      7\u001b[0m \u001b[38;5;28;01mfor\u001b[39;00m k, v \u001b[38;5;129;01min\u001b[39;00m MODEL_OUT_PROB\u001b[38;5;241m.\u001b[39mitems():\n\u001b[0;32m----> 8\u001b[0m     scores\u001b[38;5;241m.\u001b[39mloc[k] \u001b[38;5;241m=\u001b[39m [\u001b[43mcompute_test_auc\u001b[49m\u001b[43m(\u001b[49m\u001b[43mv\u001b[49m\u001b[43m)\u001b[49m]\n\u001b[1;32m     10\u001b[0m scores\u001b[38;5;241m.\u001b[39mloc[\u001b[38;5;124m'\u001b[39m\u001b[38;5;124mENSEMBLE\u001b[39m\u001b[38;5;124m'\u001b[39m] \u001b[38;5;241m=\u001b[39m [compute_test_auc(bagged_pred)]\n\u001b[1;32m     12\u001b[0m scores \u001b[38;5;241m*\u001b[39m\u001b[38;5;241m=\u001b[39m \u001b[38;5;241m100\u001b[39m\n",
      "Cell \u001b[0;32mIn[8], line 2\u001b[0m, in \u001b[0;36mcompute_test_auc\u001b[0;34m(pred)\u001b[0m\n\u001b[1;32m      1\u001b[0m \u001b[38;5;28;01mdef\u001b[39;00m \u001b[38;5;21mcompute_test_auc\u001b[39m(pred):\n\u001b[0;32m----> 2\u001b[0m     \u001b[38;5;28;01mreturn\u001b[39;00m roc_auc_score(\u001b[43mTEST\u001b[49m\u001b[43m[\u001b[49m\u001b[43mLABEL_COLS\u001b[49m\u001b[43m]\u001b[49m\u001b[38;5;241m.\u001b[39mvalues, pred)\n",
      "File \u001b[0;32m~/Desktop/COMPSCI 273A/project/env/lib/python3.11/site-packages/pandas/core/frame.py:3899\u001b[0m, in \u001b[0;36mDataFrame.__getitem__\u001b[0;34m(self, key)\u001b[0m\n\u001b[1;32m   3897\u001b[0m     \u001b[38;5;28;01mif\u001b[39;00m is_iterator(key):\n\u001b[1;32m   3898\u001b[0m         key \u001b[38;5;241m=\u001b[39m \u001b[38;5;28mlist\u001b[39m(key)\n\u001b[0;32m-> 3899\u001b[0m     indexer \u001b[38;5;241m=\u001b[39m \u001b[38;5;28;43mself\u001b[39;49m\u001b[38;5;241;43m.\u001b[39;49m\u001b[43mcolumns\u001b[49m\u001b[38;5;241;43m.\u001b[39;49m\u001b[43m_get_indexer_strict\u001b[49m\u001b[43m(\u001b[49m\u001b[43mkey\u001b[49m\u001b[43m,\u001b[49m\u001b[43m \u001b[49m\u001b[38;5;124;43m\"\u001b[39;49m\u001b[38;5;124;43mcolumns\u001b[39;49m\u001b[38;5;124;43m\"\u001b[39;49m\u001b[43m)\u001b[49m[\u001b[38;5;241m1\u001b[39m]\n\u001b[1;32m   3901\u001b[0m \u001b[38;5;66;03m# take() does not accept boolean indexers\u001b[39;00m\n\u001b[1;32m   3902\u001b[0m \u001b[38;5;28;01mif\u001b[39;00m \u001b[38;5;28mgetattr\u001b[39m(indexer, \u001b[38;5;124m\"\u001b[39m\u001b[38;5;124mdtype\u001b[39m\u001b[38;5;124m\"\u001b[39m, \u001b[38;5;28;01mNone\u001b[39;00m) \u001b[38;5;241m==\u001b[39m \u001b[38;5;28mbool\u001b[39m:\n",
      "File \u001b[0;32m~/Desktop/COMPSCI 273A/project/env/lib/python3.11/site-packages/pandas/core/indexes/base.py:6114\u001b[0m, in \u001b[0;36mIndex._get_indexer_strict\u001b[0;34m(self, key, axis_name)\u001b[0m\n\u001b[1;32m   6111\u001b[0m \u001b[38;5;28;01melse\u001b[39;00m:\n\u001b[1;32m   6112\u001b[0m     keyarr, indexer, new_indexer \u001b[38;5;241m=\u001b[39m \u001b[38;5;28mself\u001b[39m\u001b[38;5;241m.\u001b[39m_reindex_non_unique(keyarr)\n\u001b[0;32m-> 6114\u001b[0m \u001b[38;5;28;43mself\u001b[39;49m\u001b[38;5;241;43m.\u001b[39;49m\u001b[43m_raise_if_missing\u001b[49m\u001b[43m(\u001b[49m\u001b[43mkeyarr\u001b[49m\u001b[43m,\u001b[49m\u001b[43m \u001b[49m\u001b[43mindexer\u001b[49m\u001b[43m,\u001b[49m\u001b[43m \u001b[49m\u001b[43maxis_name\u001b[49m\u001b[43m)\u001b[49m\n\u001b[1;32m   6116\u001b[0m keyarr \u001b[38;5;241m=\u001b[39m \u001b[38;5;28mself\u001b[39m\u001b[38;5;241m.\u001b[39mtake(indexer)\n\u001b[1;32m   6117\u001b[0m \u001b[38;5;28;01mif\u001b[39;00m \u001b[38;5;28misinstance\u001b[39m(key, Index):\n\u001b[1;32m   6118\u001b[0m     \u001b[38;5;66;03m# GH 42790 - Preserve name from an Index\u001b[39;00m\n",
      "File \u001b[0;32m~/Desktop/COMPSCI 273A/project/env/lib/python3.11/site-packages/pandas/core/indexes/base.py:6175\u001b[0m, in \u001b[0;36mIndex._raise_if_missing\u001b[0;34m(self, key, indexer, axis_name)\u001b[0m\n\u001b[1;32m   6173\u001b[0m     \u001b[38;5;28;01mif\u001b[39;00m use_interval_msg:\n\u001b[1;32m   6174\u001b[0m         key \u001b[38;5;241m=\u001b[39m \u001b[38;5;28mlist\u001b[39m(key)\n\u001b[0;32m-> 6175\u001b[0m     \u001b[38;5;28;01mraise\u001b[39;00m \u001b[38;5;167;01mKeyError\u001b[39;00m(\u001b[38;5;124mf\u001b[39m\u001b[38;5;124m\"\u001b[39m\u001b[38;5;124mNone of [\u001b[39m\u001b[38;5;132;01m{\u001b[39;00mkey\u001b[38;5;132;01m}\u001b[39;00m\u001b[38;5;124m] are in the [\u001b[39m\u001b[38;5;132;01m{\u001b[39;00maxis_name\u001b[38;5;132;01m}\u001b[39;00m\u001b[38;5;124m]\u001b[39m\u001b[38;5;124m\"\u001b[39m)\n\u001b[1;32m   6177\u001b[0m not_found \u001b[38;5;241m=\u001b[39m \u001b[38;5;28mlist\u001b[39m(ensure_index(key)[missing_mask\u001b[38;5;241m.\u001b[39mnonzero()[\u001b[38;5;241m0\u001b[39m]]\u001b[38;5;241m.\u001b[39munique())\n\u001b[1;32m   6178\u001b[0m \u001b[38;5;28;01mraise\u001b[39;00m \u001b[38;5;167;01mKeyError\u001b[39;00m(\u001b[38;5;124mf\u001b[39m\u001b[38;5;124m\"\u001b[39m\u001b[38;5;132;01m{\u001b[39;00mnot_found\u001b[38;5;132;01m}\u001b[39;00m\u001b[38;5;124m not in index\u001b[39m\u001b[38;5;124m\"\u001b[39m)\n",
      "\u001b[0;31mKeyError\u001b[0m: \"None of [Index(['toxic', 'severe_toxic', 'obscene', 'threat', 'insult',\\n       'identity_hate'],\\n      dtype='object')] are in the [columns]\""
     ]
    }
   ],
   "source": [
    "def compute_test_auc(pred):\n",
    "    return roc_auc_score(TEST[LABEL_COLS].values, pred)\n",
    "\n",
    "scores = pd.DataFrame(columns=['Model', 'AUC Score'])\n",
    "scores.set_index('Model', inplace=True)\n",
    "\n",
    "for k, v in MODEL_OUT_PROB.items():\n",
    "    scores.loc[k] = [compute_test_auc(v)]\n",
    "\n",
    "scores.loc['ENSEMBLE'] = [compute_test_auc(bagged_pred)]\n",
    "\n",
    "scores *= 100\n",
    "print(scores.to_markdown())"
   ]
  }
 ],
 "metadata": {
  "kernelspec": {
   "display_name": "env",
   "language": "python",
   "name": "python3"
  },
  "language_info": {
   "codemirror_mode": {
    "name": "ipython",
    "version": 3
   },
   "file_extension": ".py",
   "mimetype": "text/x-python",
   "name": "python",
   "nbconvert_exporter": "python",
   "pygments_lexer": "ipython3",
   "version": "3.11.2"
  }
 },
 "nbformat": 4,
 "nbformat_minor": 2
}
